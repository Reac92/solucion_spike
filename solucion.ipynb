{
 "cells": [
  {
   "cell_type": "markdown",
   "source": [
    "# 1. Datos: Precipitaciones, Indicadores Económicos del Banco Central"
   ],
   "metadata": {}
  },
  {
   "cell_type": "code",
   "execution_count": 2,
   "source": [
    "import pandas as pd\r\n",
    "import numpy as np\r\n",
    "import seaborn as sns\r\n",
    "import matplotlib.pyplot as plt\r\n"
   ],
   "outputs": [],
   "metadata": {}
  },
  {
   "cell_type": "code",
   "execution_count": 3,
   "source": [
    "precipitaciones = pd.read_csv(\"precipitaciones.csv\")\r\n",
    "banco_central = pd.read_csv(\"banco_central.csv\")\r\n"
   ],
   "outputs": [],
   "metadata": {}
  },
  {
   "cell_type": "markdown",
   "source": [
    "# 2. Análisis de Datos. Creación de variables"
   ],
   "metadata": {}
  },
  {
   "cell_type": "markdown",
   "source": [
    "## Precipitaciones"
   ],
   "metadata": {}
  },
  {
   "cell_type": "code",
   "execution_count": 4,
   "source": [
    "precipitaciones.head()"
   ],
   "outputs": [
    {
     "output_type": "execute_result",
     "data": {
      "text/plain": [
       "         date  Coquimbo  Valparaiso  Metropolitana_de_Santiago  \\\n",
       "0  1989-02-01  0.719033    0.117045                   0.028272   \n",
       "1  1998-10-01  0.065216    0.000000                   0.011493   \n",
       "2  2001-02-01  2.030026    0.047987                   0.002634   \n",
       "3  2008-11-01  0.622784    0.000000                   0.015872   \n",
       "4  2009-04-01  0.008065    0.000000                   0.009396   \n",
       "\n",
       "   Libertador_Gral__Bernardo_O_Higgins      Maule     Biobio  La_Araucania  \\\n",
       "0                                  0.0   0.724667   9.172945     22.595834   \n",
       "1                                  0.0   0.008968   2.089674     14.702087   \n",
       "2                                  0.0   0.032163  10.768351     29.465057   \n",
       "3                                  0.0   1.734168  25.083557     64.901645   \n",
       "4                                  0.0  12.080715  56.233424     96.364235   \n",
       "\n",
       "     Los_Rios  \n",
       "0   52.268010  \n",
       "1   45.142041  \n",
       "2   65.571098  \n",
       "3  113.093488  \n",
       "4  155.622235  "
      ],
      "text/html": [
       "<div>\n",
       "<style scoped>\n",
       "    .dataframe tbody tr th:only-of-type {\n",
       "        vertical-align: middle;\n",
       "    }\n",
       "\n",
       "    .dataframe tbody tr th {\n",
       "        vertical-align: top;\n",
       "    }\n",
       "\n",
       "    .dataframe thead th {\n",
       "        text-align: right;\n",
       "    }\n",
       "</style>\n",
       "<table border=\"1\" class=\"dataframe\">\n",
       "  <thead>\n",
       "    <tr style=\"text-align: right;\">\n",
       "      <th></th>\n",
       "      <th>date</th>\n",
       "      <th>Coquimbo</th>\n",
       "      <th>Valparaiso</th>\n",
       "      <th>Metropolitana_de_Santiago</th>\n",
       "      <th>Libertador_Gral__Bernardo_O_Higgins</th>\n",
       "      <th>Maule</th>\n",
       "      <th>Biobio</th>\n",
       "      <th>La_Araucania</th>\n",
       "      <th>Los_Rios</th>\n",
       "    </tr>\n",
       "  </thead>\n",
       "  <tbody>\n",
       "    <tr>\n",
       "      <th>0</th>\n",
       "      <td>1989-02-01</td>\n",
       "      <td>0.719033</td>\n",
       "      <td>0.117045</td>\n",
       "      <td>0.028272</td>\n",
       "      <td>0.0</td>\n",
       "      <td>0.724667</td>\n",
       "      <td>9.172945</td>\n",
       "      <td>22.595834</td>\n",
       "      <td>52.268010</td>\n",
       "    </tr>\n",
       "    <tr>\n",
       "      <th>1</th>\n",
       "      <td>1998-10-01</td>\n",
       "      <td>0.065216</td>\n",
       "      <td>0.000000</td>\n",
       "      <td>0.011493</td>\n",
       "      <td>0.0</td>\n",
       "      <td>0.008968</td>\n",
       "      <td>2.089674</td>\n",
       "      <td>14.702087</td>\n",
       "      <td>45.142041</td>\n",
       "    </tr>\n",
       "    <tr>\n",
       "      <th>2</th>\n",
       "      <td>2001-02-01</td>\n",
       "      <td>2.030026</td>\n",
       "      <td>0.047987</td>\n",
       "      <td>0.002634</td>\n",
       "      <td>0.0</td>\n",
       "      <td>0.032163</td>\n",
       "      <td>10.768351</td>\n",
       "      <td>29.465057</td>\n",
       "      <td>65.571098</td>\n",
       "    </tr>\n",
       "    <tr>\n",
       "      <th>3</th>\n",
       "      <td>2008-11-01</td>\n",
       "      <td>0.622784</td>\n",
       "      <td>0.000000</td>\n",
       "      <td>0.015872</td>\n",
       "      <td>0.0</td>\n",
       "      <td>1.734168</td>\n",
       "      <td>25.083557</td>\n",
       "      <td>64.901645</td>\n",
       "      <td>113.093488</td>\n",
       "    </tr>\n",
       "    <tr>\n",
       "      <th>4</th>\n",
       "      <td>2009-04-01</td>\n",
       "      <td>0.008065</td>\n",
       "      <td>0.000000</td>\n",
       "      <td>0.009396</td>\n",
       "      <td>0.0</td>\n",
       "      <td>12.080715</td>\n",
       "      <td>56.233424</td>\n",
       "      <td>96.364235</td>\n",
       "      <td>155.622235</td>\n",
       "    </tr>\n",
       "  </tbody>\n",
       "</table>\n",
       "</div>"
      ]
     },
     "metadata": {},
     "execution_count": 4
    }
   ],
   "metadata": {}
  },
  {
   "cell_type": "code",
   "execution_count": 5,
   "source": [
    "precipitaciones.dtypes"
   ],
   "outputs": [
    {
     "output_type": "execute_result",
     "data": {
      "text/plain": [
       "date                                    object\n",
       "Coquimbo                               float64\n",
       "Valparaiso                             float64\n",
       "Metropolitana_de_Santiago              float64\n",
       "Libertador_Gral__Bernardo_O_Higgins    float64\n",
       "Maule                                  float64\n",
       "Biobio                                 float64\n",
       "La_Araucania                           float64\n",
       "Los_Rios                               float64\n",
       "dtype: object"
      ]
     },
     "metadata": {},
     "execution_count": 5
    }
   ],
   "metadata": {}
  },
  {
   "cell_type": "code",
   "execution_count": 6,
   "source": [
    "precipitaciones.isna().sum()"
   ],
   "outputs": [
    {
     "output_type": "execute_result",
     "data": {
      "text/plain": [
       "date                                   0\n",
       "Coquimbo                               0\n",
       "Valparaiso                             0\n",
       "Metropolitana_de_Santiago              0\n",
       "Libertador_Gral__Bernardo_O_Higgins    0\n",
       "Maule                                  0\n",
       "Biobio                                 0\n",
       "La_Araucania                           0\n",
       "Los_Rios                               0\n",
       "dtype: int64"
      ]
     },
     "metadata": {},
     "execution_count": 6
    }
   ],
   "metadata": {}
  },
  {
   "cell_type": "code",
   "execution_count": 7,
   "source": [
    "precipitaciones.describe()"
   ],
   "outputs": [
    {
     "output_type": "execute_result",
     "data": {
      "text/plain": [
       "         Coquimbo  Valparaiso  Metropolitana_de_Santiago  \\\n",
       "count  496.000000  496.000000                 496.000000   \n",
       "mean    16.154691   32.450980                  49.666682   \n",
       "std     32.629286   55.434330                  74.361099   \n",
       "min      0.000000    0.000000                   0.000000   \n",
       "25%      0.821521    1.538162                   5.297546   \n",
       "50%      4.071036    9.037825                  19.087592   \n",
       "75%     16.137600   38.409213                  63.408364   \n",
       "max    347.133889  441.048604                 524.592667   \n",
       "\n",
       "       Libertador_Gral__Bernardo_O_Higgins       Maule      Biobio  \\\n",
       "count                           496.000000  496.000000  496.000000   \n",
       "mean                             72.249805   98.662773  128.113406   \n",
       "std                             101.426112  122.766771  130.056094   \n",
       "min                               0.000000    0.000000    0.001170   \n",
       "25%                               5.343992   11.897363   29.356684   \n",
       "50%                              25.995969   45.649888   79.558557   \n",
       "75%                             101.875093  142.230716  184.751307   \n",
       "max                             645.515752  759.177712  702.434707   \n",
       "\n",
       "       La_Araucania    Los_Rios  \n",
       "count    496.000000  496.000000  \n",
       "mean     151.486456  199.451789  \n",
       "std      126.628503  140.073615  \n",
       "min        0.005331    0.748127  \n",
       "25%       52.930343   89.805643  \n",
       "50%      110.570990  159.467940  \n",
       "75%      208.316243  274.594590  \n",
       "max      661.211203  717.735673  "
      ],
      "text/html": [
       "<div>\n",
       "<style scoped>\n",
       "    .dataframe tbody tr th:only-of-type {\n",
       "        vertical-align: middle;\n",
       "    }\n",
       "\n",
       "    .dataframe tbody tr th {\n",
       "        vertical-align: top;\n",
       "    }\n",
       "\n",
       "    .dataframe thead th {\n",
       "        text-align: right;\n",
       "    }\n",
       "</style>\n",
       "<table border=\"1\" class=\"dataframe\">\n",
       "  <thead>\n",
       "    <tr style=\"text-align: right;\">\n",
       "      <th></th>\n",
       "      <th>Coquimbo</th>\n",
       "      <th>Valparaiso</th>\n",
       "      <th>Metropolitana_de_Santiago</th>\n",
       "      <th>Libertador_Gral__Bernardo_O_Higgins</th>\n",
       "      <th>Maule</th>\n",
       "      <th>Biobio</th>\n",
       "      <th>La_Araucania</th>\n",
       "      <th>Los_Rios</th>\n",
       "    </tr>\n",
       "  </thead>\n",
       "  <tbody>\n",
       "    <tr>\n",
       "      <th>count</th>\n",
       "      <td>496.000000</td>\n",
       "      <td>496.000000</td>\n",
       "      <td>496.000000</td>\n",
       "      <td>496.000000</td>\n",
       "      <td>496.000000</td>\n",
       "      <td>496.000000</td>\n",
       "      <td>496.000000</td>\n",
       "      <td>496.000000</td>\n",
       "    </tr>\n",
       "    <tr>\n",
       "      <th>mean</th>\n",
       "      <td>16.154691</td>\n",
       "      <td>32.450980</td>\n",
       "      <td>49.666682</td>\n",
       "      <td>72.249805</td>\n",
       "      <td>98.662773</td>\n",
       "      <td>128.113406</td>\n",
       "      <td>151.486456</td>\n",
       "      <td>199.451789</td>\n",
       "    </tr>\n",
       "    <tr>\n",
       "      <th>std</th>\n",
       "      <td>32.629286</td>\n",
       "      <td>55.434330</td>\n",
       "      <td>74.361099</td>\n",
       "      <td>101.426112</td>\n",
       "      <td>122.766771</td>\n",
       "      <td>130.056094</td>\n",
       "      <td>126.628503</td>\n",
       "      <td>140.073615</td>\n",
       "    </tr>\n",
       "    <tr>\n",
       "      <th>min</th>\n",
       "      <td>0.000000</td>\n",
       "      <td>0.000000</td>\n",
       "      <td>0.000000</td>\n",
       "      <td>0.000000</td>\n",
       "      <td>0.000000</td>\n",
       "      <td>0.001170</td>\n",
       "      <td>0.005331</td>\n",
       "      <td>0.748127</td>\n",
       "    </tr>\n",
       "    <tr>\n",
       "      <th>25%</th>\n",
       "      <td>0.821521</td>\n",
       "      <td>1.538162</td>\n",
       "      <td>5.297546</td>\n",
       "      <td>5.343992</td>\n",
       "      <td>11.897363</td>\n",
       "      <td>29.356684</td>\n",
       "      <td>52.930343</td>\n",
       "      <td>89.805643</td>\n",
       "    </tr>\n",
       "    <tr>\n",
       "      <th>50%</th>\n",
       "      <td>4.071036</td>\n",
       "      <td>9.037825</td>\n",
       "      <td>19.087592</td>\n",
       "      <td>25.995969</td>\n",
       "      <td>45.649888</td>\n",
       "      <td>79.558557</td>\n",
       "      <td>110.570990</td>\n",
       "      <td>159.467940</td>\n",
       "    </tr>\n",
       "    <tr>\n",
       "      <th>75%</th>\n",
       "      <td>16.137600</td>\n",
       "      <td>38.409213</td>\n",
       "      <td>63.408364</td>\n",
       "      <td>101.875093</td>\n",
       "      <td>142.230716</td>\n",
       "      <td>184.751307</td>\n",
       "      <td>208.316243</td>\n",
       "      <td>274.594590</td>\n",
       "    </tr>\n",
       "    <tr>\n",
       "      <th>max</th>\n",
       "      <td>347.133889</td>\n",
       "      <td>441.048604</td>\n",
       "      <td>524.592667</td>\n",
       "      <td>645.515752</td>\n",
       "      <td>759.177712</td>\n",
       "      <td>702.434707</td>\n",
       "      <td>661.211203</td>\n",
       "      <td>717.735673</td>\n",
       "    </tr>\n",
       "  </tbody>\n",
       "</table>\n",
       "</div>"
      ]
     },
     "metadata": {},
     "execution_count": 7
    }
   ],
   "metadata": {}
  },
  {
   "cell_type": "code",
   "execution_count": 8,
   "source": [
    "# histogramas\r\n",
    "\r\n",
    "precipitaciones.hist(bins=50, figsize=(20,15))\r\n",
    "plt.show()\r\n"
   ],
   "outputs": [
    {
     "output_type": "display_data",
     "data": {
      "text/plain": [
       "<Figure size 1440x1080 with 9 Axes>"
      ],
      "image/png": "[encoded data removed]"
     },
     "metadata": {
      "needs_background": "light"
     }
    }
   ],
   "metadata": {}
  },
  {
   "cell_type": "code",
   "execution_count": 9,
   "source": [
    "# correlations\r\n",
    "\r\n",
    "corr_matrix = precipitaciones.corr()\r\n",
    "\r\n",
    "# estudiemos, por ejemplo, la correlación de las precipitaciones con Santiago\r\n",
    "\r\n",
    "corr_matrix['Metropolitana_de_Santiago'].sort_values(ascending=False)"
   ],
   "outputs": [
    {
     "output_type": "execute_result",
     "data": {
      "text/plain": [
       "Metropolitana_de_Santiago              1.000000\n",
       "Libertador_Gral__Bernardo_O_Higgins    0.976389\n",
       "Valparaiso                             0.967567\n",
       "Maule                                  0.904947\n",
       "Coquimbo                               0.813478\n",
       "Biobio                                 0.804073\n",
       "La_Araucania                           0.729807\n",
       "Los_Rios                               0.677950\n",
       "Name: Metropolitana_de_Santiago, dtype: float64"
      ]
     },
     "metadata": {},
     "execution_count": 9
    }
   ],
   "metadata": {}
  },
  {
   "cell_type": "markdown",
   "source": [
    "1. Es decir, las regiones mas cercanas están altamente correlacionadas con Santiago"
   ],
   "metadata": {}
  },
  {
   "cell_type": "code",
   "execution_count": 10,
   "source": [
    "precipitaciones.columns"
   ],
   "outputs": [
    {
     "output_type": "execute_result",
     "data": {
      "text/plain": [
       "Index(['date', 'Coquimbo', 'Valparaiso', 'Metropolitana_de_Santiago',\n",
       "       'Libertador_Gral__Bernardo_O_Higgins', 'Maule', 'Biobio',\n",
       "       'La_Araucania', 'Los_Rios'],\n",
       "      dtype='object')"
      ]
     },
     "metadata": {},
     "execution_count": 10
    }
   ],
   "metadata": {}
  },
  {
   "cell_type": "code",
   "execution_count": 11,
   "source": [
    "from pandas.plotting import scatter_matrix\r\n",
    "\r\n",
    "zonas_centro = [\"Metropolitana_de_Santiago\", \"Libertador_Gral__Bernardo_O_Higgins\", \"Valparaiso\"]\r\n",
    "scatter_matrix(precipitaciones[zonas_centro])\r\n",
    "plt.show()"
   ],
   "outputs": [
    {
     "output_type": "display_data",
     "data": {
      "text/plain": [
       "<Figure size 432x288 with 9 Axes>"
      ],
      "image/png": "[encoded data removed]"
     },
     "metadata": {
      "needs_background": "light"
     }
    }
   ],
   "metadata": {}
  },
  {
   "cell_type": "markdown",
   "source": [
    "### Banco Central"
   ],
   "metadata": {}
  },
  {
   "cell_type": "code",
   "execution_count": 12,
   "source": [
    "banco_central.shape"
   ],
   "outputs": [
    {
     "output_type": "execute_result",
     "data": {
      "text/plain": [
       "(614, 85)"
      ]
     },
     "metadata": {},
     "execution_count": 12
    }
   ],
   "metadata": {}
  },
  {
   "cell_type": "code",
   "execution_count": 13,
   "source": [
    "banco_central.head()"
   ],
   "outputs": [
    {
     "output_type": "execute_result",
     "data": {
      "text/plain": [
       "                   Periodo Imacec_empalmado Imacec_produccion_de_bienes  \\\n",
       "0  2013-03-01 00:00:00 UTC      102.796.218                  10.546.824   \n",
       "1  2013-04-01 00:00:00 UTC      101.664.842                 999.272.757   \n",
       "2  2013-05-01 00:00:00 UTC      101.642.954                 993.959.922   \n",
       "3  2013-06-01 00:00:00 UTC      998.310.201                 968.367.884   \n",
       "4  2013-07-01 00:00:00 UTC      964.696.194                 961.051.418   \n",
       "\n",
       "  Imacec_minero Imacec_industria Imacec_resto_de_bienes Imacec_comercio  \\\n",
       "0   978.554.365      102.297.537            114.994.919     110.729.395   \n",
       "1   927.333.293      104.485.589            102.199.311     106.098.291   \n",
       "2    96.133.164      105.445.361            968.789.055     100.462.117   \n",
       "3   102.400.933      999.212.106             89.190.493     939.504.414   \n",
       "4   980.029.022      100.882.112            901.785.886      92.776.599   \n",
       "\n",
       "  Imacec_servicios Imacec_a_costo_de_factores Imacec_no_minero  ...  \\\n",
       "0      100.064.328                103.163.651      103.405.852  ...   \n",
       "1      102.600.107                101.937.319      102.766.884  ...   \n",
       "2      104.083.216                101.953.299      102.322.796  ...   \n",
       "3      103.857.161                100.222.381      995.139.235  ...   \n",
       "4      969.309.272                962.069.134      962.804.305  ...   \n",
       "\n",
       "  Indice_de_tipo_de_cambio_real___TCR_promedio_1986_100  \\\n",
       "0                                        865.903.468      \n",
       "1                                        867.806.065      \n",
       "2                                        878.030.947      \n",
       "3                                        913.180.348      \n",
       "4                                        909.263.447      \n",
       "\n",
       "  Indice_de_produccion_industrial Indice_de_produccion_industrial__mineria  \\\n",
       "0                     102.761.705                               98.915.705   \n",
       "1                     968.087.179                              914.276.663   \n",
       "2                     978.471.874                              966.913.278   \n",
       "3                     966.647.135                              981.820.974   \n",
       "4                     100.100.749                              990.198.382   \n",
       "\n",
       "  Indice_de_produccion_industrial_electricidad__gas_y_agua  \\\n",
       "0                                                NaN         \n",
       "1                                                NaN         \n",
       "2                                                NaN         \n",
       "3                                                NaN         \n",
       "4                                                NaN         \n",
       "\n",
       "  Indice_de_produccion_industrial__manufacturera  \\\n",
       "0                                    108.387.837   \n",
       "1                                    104.545.429   \n",
       "2                                     99.468.801   \n",
       "3                                     94.969.678   \n",
       "4                                    102.128.977   \n",
       "\n",
       "  Generacion_de_energia_electrica_CDEC_GWh  \\\n",
       "0                              580.480.672   \n",
       "1                              544.815.032   \n",
       "2                               56.891.916   \n",
       "3                               56.594.867   \n",
       "4                              586.329.899   \n",
       "\n",
       "  Indice_de_ventas_comercio_real_IVCM  \\\n",
       "0                                 NaN   \n",
       "1                                 NaN   \n",
       "2                                 NaN   \n",
       "3                                 NaN   \n",
       "4                                 NaN   \n",
       "\n",
       "  Indice_de_ventas_comercio_real_no_durables_IVCM  \\\n",
       "0                                             NaN   \n",
       "1                                             NaN   \n",
       "2                                             NaN   \n",
       "3                                             NaN   \n",
       "4                                             NaN   \n",
       "\n",
       "  Indice_de_ventas_comercio_real_durables_IVCM Ventas_autos_nuevos  \n",
       "0                                          NaN             28577.0  \n",
       "1                                          NaN             32206.0  \n",
       "2                                          NaN             31589.0  \n",
       "3                                          NaN             28457.0  \n",
       "4                                          NaN             31736.0  \n",
       "\n",
       "[5 rows x 85 columns]"
      ],
      "text/html": [
       "<div>\n",
       "<style scoped>\n",
       "    .dataframe tbody tr th:only-of-type {\n",
       "        vertical-align: middle;\n",
       "    }\n",
       "\n",
       "    .dataframe tbody tr th {\n",
       "        vertical-align: top;\n",
       "    }\n",
       "\n",
       "    .dataframe thead th {\n",
       "        text-align: right;\n",
       "    }\n",
       "</style>\n",
       "<table border=\"1\" class=\"dataframe\">\n",
       "  <thead>\n",
       "    <tr style=\"text-align: right;\">\n",
       "      <th></th>\n",
       "      <th>Periodo</th>\n",
       "      <th>Imacec_empalmado</th>\n",
       "      <th>Imacec_produccion_de_bienes</th>\n",
       "      <th>Imacec_minero</th>\n",
       "      <th>Imacec_industria</th>\n",
       "      <th>Imacec_resto_de_bienes</th>\n",
       "      <th>Imacec_comercio</th>\n",
       "      <th>Imacec_servicios</th>\n",
       "      <th>Imacec_a_costo_de_factores</th>\n",
       "      <th>Imacec_no_minero</th>\n",
       "      <th>...</th>\n",
       "      <th>Indice_de_tipo_de_cambio_real___TCR_promedio_1986_100</th>\n",
       "      <th>Indice_de_produccion_industrial</th>\n",
       "      <th>Indice_de_produccion_industrial__mineria</th>\n",
       "      <th>Indice_de_produccion_industrial_electricidad__gas_y_agua</th>\n",
       "      <th>Indice_de_produccion_industrial__manufacturera</th>\n",
       "      <th>Generacion_de_energia_electrica_CDEC_GWh</th>\n",
       "      <th>Indice_de_ventas_comercio_real_IVCM</th>\n",
       "      <th>Indice_de_ventas_comercio_real_no_durables_IVCM</th>\n",
       "      <th>Indice_de_ventas_comercio_real_durables_IVCM</th>\n",
       "      <th>Ventas_autos_nuevos</th>\n",
       "    </tr>\n",
       "  </thead>\n",
       "  <tbody>\n",
       "    <tr>\n",
       "      <th>0</th>\n",
       "      <td>2013-03-01 00:00:00 UTC</td>\n",
       "      <td>102.796.218</td>\n",
       "      <td>10.546.824</td>\n",
       "      <td>978.554.365</td>\n",
       "      <td>102.297.537</td>\n",
       "      <td>114.994.919</td>\n",
       "      <td>110.729.395</td>\n",
       "      <td>100.064.328</td>\n",
       "      <td>103.163.651</td>\n",
       "      <td>103.405.852</td>\n",
       "      <td>...</td>\n",
       "      <td>865.903.468</td>\n",
       "      <td>102.761.705</td>\n",
       "      <td>98.915.705</td>\n",
       "      <td>NaN</td>\n",
       "      <td>108.387.837</td>\n",
       "      <td>580.480.672</td>\n",
       "      <td>NaN</td>\n",
       "      <td>NaN</td>\n",
       "      <td>NaN</td>\n",
       "      <td>28577.0</td>\n",
       "    </tr>\n",
       "    <tr>\n",
       "      <th>1</th>\n",
       "      <td>2013-04-01 00:00:00 UTC</td>\n",
       "      <td>101.664.842</td>\n",
       "      <td>999.272.757</td>\n",
       "      <td>927.333.293</td>\n",
       "      <td>104.485.589</td>\n",
       "      <td>102.199.311</td>\n",
       "      <td>106.098.291</td>\n",
       "      <td>102.600.107</td>\n",
       "      <td>101.937.319</td>\n",
       "      <td>102.766.884</td>\n",
       "      <td>...</td>\n",
       "      <td>867.806.065</td>\n",
       "      <td>968.087.179</td>\n",
       "      <td>914.276.663</td>\n",
       "      <td>NaN</td>\n",
       "      <td>104.545.429</td>\n",
       "      <td>544.815.032</td>\n",
       "      <td>NaN</td>\n",
       "      <td>NaN</td>\n",
       "      <td>NaN</td>\n",
       "      <td>32206.0</td>\n",
       "    </tr>\n",
       "    <tr>\n",
       "      <th>2</th>\n",
       "      <td>2013-05-01 00:00:00 UTC</td>\n",
       "      <td>101.642.954</td>\n",
       "      <td>993.959.922</td>\n",
       "      <td>96.133.164</td>\n",
       "      <td>105.445.361</td>\n",
       "      <td>968.789.055</td>\n",
       "      <td>100.462.117</td>\n",
       "      <td>104.083.216</td>\n",
       "      <td>101.953.299</td>\n",
       "      <td>102.322.796</td>\n",
       "      <td>...</td>\n",
       "      <td>878.030.947</td>\n",
       "      <td>978.471.874</td>\n",
       "      <td>966.913.278</td>\n",
       "      <td>NaN</td>\n",
       "      <td>99.468.801</td>\n",
       "      <td>56.891.916</td>\n",
       "      <td>NaN</td>\n",
       "      <td>NaN</td>\n",
       "      <td>NaN</td>\n",
       "      <td>31589.0</td>\n",
       "    </tr>\n",
       "    <tr>\n",
       "      <th>3</th>\n",
       "      <td>2013-06-01 00:00:00 UTC</td>\n",
       "      <td>998.310.201</td>\n",
       "      <td>968.367.884</td>\n",
       "      <td>102.400.933</td>\n",
       "      <td>999.212.106</td>\n",
       "      <td>89.190.493</td>\n",
       "      <td>939.504.414</td>\n",
       "      <td>103.857.161</td>\n",
       "      <td>100.222.381</td>\n",
       "      <td>995.139.235</td>\n",
       "      <td>...</td>\n",
       "      <td>913.180.348</td>\n",
       "      <td>966.647.135</td>\n",
       "      <td>981.820.974</td>\n",
       "      <td>NaN</td>\n",
       "      <td>94.969.678</td>\n",
       "      <td>56.594.867</td>\n",
       "      <td>NaN</td>\n",
       "      <td>NaN</td>\n",
       "      <td>NaN</td>\n",
       "      <td>28457.0</td>\n",
       "    </tr>\n",
       "    <tr>\n",
       "      <th>4</th>\n",
       "      <td>2013-07-01 00:00:00 UTC</td>\n",
       "      <td>964.696.194</td>\n",
       "      <td>961.051.418</td>\n",
       "      <td>980.029.022</td>\n",
       "      <td>100.882.112</td>\n",
       "      <td>901.785.886</td>\n",
       "      <td>92.776.599</td>\n",
       "      <td>969.309.272</td>\n",
       "      <td>962.069.134</td>\n",
       "      <td>962.804.305</td>\n",
       "      <td>...</td>\n",
       "      <td>909.263.447</td>\n",
       "      <td>100.100.749</td>\n",
       "      <td>990.198.382</td>\n",
       "      <td>NaN</td>\n",
       "      <td>102.128.977</td>\n",
       "      <td>586.329.899</td>\n",
       "      <td>NaN</td>\n",
       "      <td>NaN</td>\n",
       "      <td>NaN</td>\n",
       "      <td>31736.0</td>\n",
       "    </tr>\n",
       "  </tbody>\n",
       "</table>\n",
       "<p>5 rows × 85 columns</p>\n",
       "</div>"
      ]
     },
     "metadata": {},
     "execution_count": 13
    }
   ],
   "metadata": {}
  },
  {
   "cell_type": "code",
   "execution_count": 14,
   "source": [
    "banco_central.columns"
   ],
   "outputs": [
    {
     "output_type": "execute_result",
     "data": {
      "text/plain": [
       "Index(['Periodo', 'Imacec_empalmado', 'Imacec_produccion_de_bienes',\n",
       "       'Imacec_minero', 'Imacec_industria', 'Imacec_resto_de_bienes',\n",
       "       'Imacec_comercio', 'Imacec_servicios', 'Imacec_a_costo_de_factores',\n",
       "       'Imacec_no_minero', 'PIB_Agropecuario_silvicola', 'PIB_Pesca',\n",
       "       'PIB_Mineria', 'PIB_Mineria_del_cobre', 'PIB_Otras_actividades_mineras',\n",
       "       'PIB_Industria_Manufacturera', 'PIB_Alimentos', 'PIB_Bebidas_y_tabaco',\n",
       "       'PIB_Textil', 'PIB_Maderas_y_muebles', 'PIB_Celulosa',\n",
       "       'PIB_Refinacion_de_petroleo', 'PIB_Quimica',\n",
       "       'PIB_Minerales_no_metalicos_y_metalica_basica',\n",
       "       'PIB_Productos_metalicos', 'PIB_Electricidad', 'PIB_Construccion',\n",
       "       'PIB_Comercio', 'PIB_Restaurantes_y_hoteles', 'PIB_Transporte',\n",
       "       'PIB_Comunicaciones', 'PIB_Servicios_financieros',\n",
       "       'PIB_Servicios_empresariales', 'PIB_Servicios_de_vivienda',\n",
       "       'PIB_Servicios_personales', 'PIB_Administracion_publica',\n",
       "       'PIB_a_costo_de_factores', 'Impuesto_al_valor_agregado',\n",
       "       'Derechos_de_Importacion', 'PIB',\n",
       "       'Precio_de_la_gasolina_en_EEUU_dolaresm3',\n",
       "       'Precio_de_la_onza_troy_de_oro_dolaresoz',\n",
       "       'Precio_de_la_onza_troy_de_plata_dolaresoz',\n",
       "       'Precio_del_cobre_refinado_BML_dolareslibra',\n",
       "       'Precio_del_diesel_centavos_de_dolargalon',\n",
       "       'Precio_del_gas_natural_dolaresmillon_de_unidades_termicas_britanicas',\n",
       "       'Precio_del_petroleo_Brent_dolaresbarril',\n",
       "       'Precio_del_kerosene_dolaresm3',\n",
       "       'Precio_del_petroleo_WTI_dolaresbarril',\n",
       "       'Precio_del_propano_centavos_de_dolargalon_DTN',\n",
       "       'Tipo_de_cambio_del_dolar_observado_diario', 'Ocupados',\n",
       "       'Ocupacion_en_Agricultura_INE',\n",
       "       'Ocupacion_en_Explotacion_de_minas_y_canteras_INE',\n",
       "       'Ocupacion_en_Industrias_manufactureras_INE',\n",
       "       'Ocupacion_en_Suministro_de_electricidad_INE',\n",
       "       'Ocupacion_en_Actividades_de_servicios_administrativos_y_de_apoyo_INE',\n",
       "       'Ocupacion_en_Actividades_profesionales_INE',\n",
       "       'Ocupacion_en_Actividades_inmobiliarias_INE',\n",
       "       'Ocupacion_en_Actividades_financieras_y_de_seguros_INE',\n",
       "       'Ocupacion_en_Informacion_y_comunicaciones_INE',\n",
       "       'Ocupacion_en_Transporte_y_almacenamiento_INE',\n",
       "       'Ocupacion_en_Actividades_de_alojamiento_y_de_servicio_de_comidas_INE',\n",
       "       'Ocupacion_en_Construccion_INE', 'Ocupacion_en_Comercio_INE',\n",
       "       'Ocupacion_en_Suministro_de_agua_evacuacion_de_aguas_residuales_INE',\n",
       "       'Ocupacion_en_Administracion_publica_y_defensa_INE',\n",
       "       'Ocupacion_en_Enseanza_INE',\n",
       "       'Ocupacion_en_Actividades_de_atencion_de_la_salud_humana_y_de_asistencia_social_INE',\n",
       "       'Ocupacion_en_Actividades_artisticas_INE',\n",
       "       'Ocupacion_en_Otras_actividades_de_servicios_INE',\n",
       "       'Ocupacion_en_Actividades_de_los_hogares_como_empleadores_INE',\n",
       "       'Ocupacion_en_Actividades_de_organizaciones_y_organos_extraterritoriales_INE',\n",
       "       'No_sabe__No_responde_Miles_de_personas',\n",
       "       'Tipo_de_cambio_nominal_multilateral___TCM',\n",
       "       'Indice_de_tipo_de_cambio_real___TCR_promedio_1986_100',\n",
       "       'Indice_de_produccion_industrial',\n",
       "       'Indice_de_produccion_industrial__mineria',\n",
       "       'Indice_de_produccion_industrial_electricidad__gas_y_agua',\n",
       "       'Indice_de_produccion_industrial__manufacturera',\n",
       "       'Generacion_de_energia_electrica_CDEC_GWh',\n",
       "       'Indice_de_ventas_comercio_real_IVCM',\n",
       "       'Indice_de_ventas_comercio_real_no_durables_IVCM',\n",
       "       'Indice_de_ventas_comercio_real_durables_IVCM', 'Ventas_autos_nuevos'],\n",
       "      dtype='object')"
      ]
     },
     "metadata": {},
     "execution_count": 14
    }
   ],
   "metadata": {}
  },
  {
   "cell_type": "code",
   "execution_count": 15,
   "source": [
    "banco_central.dtypes"
   ],
   "outputs": [
    {
     "output_type": "execute_result",
     "data": {
      "text/plain": [
       "Periodo                                             object\n",
       "Imacec_empalmado                                    object\n",
       "Imacec_produccion_de_bienes                         object\n",
       "Imacec_minero                                       object\n",
       "Imacec_industria                                    object\n",
       "                                                    ...   \n",
       "Generacion_de_energia_electrica_CDEC_GWh            object\n",
       "Indice_de_ventas_comercio_real_IVCM                 object\n",
       "Indice_de_ventas_comercio_real_no_durables_IVCM     object\n",
       "Indice_de_ventas_comercio_real_durables_IVCM        object\n",
       "Ventas_autos_nuevos                                float64\n",
       "Length: 85, dtype: object"
      ]
     },
     "metadata": {},
     "execution_count": 15
    }
   ],
   "metadata": {}
  },
  {
   "cell_type": "code",
   "execution_count": 16,
   "source": [
    "banco_central.isna().sum()"
   ],
   "outputs": [
    {
     "output_type": "execute_result",
     "data": {
      "text/plain": [
       "Periodo                                              0\n",
       "Imacec_empalmado                                   314\n",
       "Imacec_produccion_de_bienes                        314\n",
       "Imacec_minero                                      314\n",
       "Imacec_industria                                   313\n",
       "                                                  ... \n",
       "Generacion_de_energia_electrica_CDEC_GWh           350\n",
       "Indice_de_ventas_comercio_real_IVCM                530\n",
       "Indice_de_ventas_comercio_real_no_durables_IVCM    530\n",
       "Indice_de_ventas_comercio_real_durables_IVCM       529\n",
       "Ventas_autos_nuevos                                469\n",
       "Length: 85, dtype: int64"
      ]
     },
     "metadata": {},
     "execution_count": 16
    }
   ],
   "metadata": {}
  },
  {
   "cell_type": "code",
   "execution_count": 17,
   "source": [
    "import missingno as msno\r\n",
    "\r\n",
    "msno.bar(banco_central)"
   ],
   "outputs": [
    {
     "output_type": "execute_result",
     "data": {
      "text/plain": [
       "<matplotlib.axes._subplots.AxesSubplot at 0x1d83abedb50>"
      ]
     },
     "metadata": {},
     "execution_count": 17
    },
    {
     "output_type": "display_data",
     "data": {
      "text/plain": [
       "<Figure size 1728x720 with 2 Axes>"
      ],
      "image/png": "[encoded data removed]"
     },
     "metadata": {
      "needs_background": "light"
     }
    }
   ],
   "metadata": {}
  },
  {
   "cell_type": "markdown",
   "source": [
    "# 3. Visualización"
   ],
   "metadata": {}
  },
  {
   "cell_type": "code",
   "execution_count": 66,
   "source": [
    "def plot_precipitations(region_name, initial_date, final_date, df):\r\n",
    "    \"\"\"\r\n",
    "    initial_date: str\r\n",
    "                date with the format 'YYYY-MM-DD'\r\n",
    "    initial_date: str\r\n",
    "                date with the format 'YYYY-MM-DD'\r\n",
    "    region_name: str\r\n",
    "           name of the region\r\n",
    "    df: pandas.DataFrame\r\n",
    "        dataframe with 'date' among its columns\r\n",
    "    \"\"\"\r\n",
    "    precipitaciones = df.copy()\r\n",
    "\r\n",
    "    # parse strings and conversions to datetime type\r\n",
    "    initial_date, final_date = pd.to_datetime(initial_date), pd.to_datetime(final_date)\r\n",
    "    if initial_date> final_date:\r\n",
    "        initial_date, final_date = final_date, initial_date  # swap dates in case of error\r\n",
    "    precipitaciones['date'] = pd.to_datetime(precipitaciones['date'])\r\n",
    "\r\n",
    "    # sort values and set date as index\r\n",
    "    precipitaciones.sort_values(['date'], inplace=True)\r\n",
    "    precipitaciones = precipitaciones.set_index('date')\r\n",
    "\r\n",
    "    # conditions to filter the data\r\n",
    "    condition_region = (region_name in list(precipitaciones.columns))\r\n",
    "    condition_dates = (precipitaciones.index>= initial_date) & (precipitaciones.index<= final_date)\r\n",
    "\r\n",
    "\r\n",
    "    if condition_region:\r\n",
    "        df_filtered_by_date = precipitaciones.loc[condition_dates]\r\n",
    "\r\n",
    "        if len(df_filtered_by_date)==0:\r\n",
    "            return f\"no data in between {initial_date} and {final_date}\"\r\n",
    "        \r\n",
    "        plt.style.use('fivethirtyeight')\r\n",
    "        ax = df_filtered_by_date[region_name].plot()\r\n",
    "        ax.set_xlabel(\"Date\")\r\n",
    "        ax.set_ylabel(\"precipitacion level (mm)\")\r\n",
    "        ax.set_title(f\"precipitations in {region_name} in between {initial_date} and {final_date}\", fontsize=10)\r\n",
    "        plt.show()\r\n",
    "        # plt.scatter(x=\"date\", y=region_name, data=df_filtered_by_date)\r\n",
    "    else:\r\n",
    "        return f\"region {region_name} not found. try a region in {df.drop(['date'], axis=1).columns}\""
   ],
   "outputs": [],
   "metadata": {}
  },
  {
   "cell_type": "code",
   "execution_count": 65,
   "source": [
    "# test function\r\n",
    "\r\n",
    "initial_date = \"2014-01-01\"\r\n",
    "final_date = \"2018-12-01\"\r\n",
    "region_name = \"Metropolitana_de_Santiago\"\r\n",
    "\r\n",
    "plot_precipitations(region_name, initial_date, final_date, precipitaciones)"
   ],
   "outputs": [
    {
     "output_type": "display_data",
     "data": {
      "text/plain": [
       "<Figure size 432x288 with 1 Axes>"
      ],
      "image/png": "[encoded data removed]"
     },
     "metadata": {}
    }
   ],
   "metadata": {}
  },
  {
   "cell_type": "markdown",
   "source": [
    "# 3.1"
   ],
   "metadata": {}
  },
  {
   "cell_type": "code",
   "execution_count": 46,
   "source": [
    "# Región Metropolitana entre \"2000-01-01\" y \"2020-01-01\"\r\n",
    "\r\n",
    "initial_date = \"2000-01-01\"\r\n",
    "final_date = \"2020-01-01\"\r\n",
    "region_name = \"Metropolitana_de_Santiago\"\r\n",
    "\r\n",
    "plot_precipitations(region_name, initial_date, final_date, precipitaciones)"
   ],
   "outputs": [
    {
     "output_type": "display_data",
     "data": {
      "text/plain": [
       "<Figure size 432x288 with 1 Axes>"
      ],
      "image/png": "[encoded data removed]"
     },
     "metadata": {
      "needs_background": "light"
     }
    }
   ],
   "metadata": {}
  },
  {
   "cell_type": "code",
   "execution_count": 48,
   "source": [
    "# L entre \"2000-01-01\" y \"2020-01-01\"\r\n",
    "\r\n",
    "initial_date = \"2000-01-01\"\r\n",
    "final_date = \"2020-01-01\"\r\n",
    "region_name = \"Libertador_Gral__Bernardo_O_Higgins\"\r\n",
    "\r\n",
    "plot_precipitations(region_name, initial_date, final_date, precipitaciones)"
   ],
   "outputs": [
    {
     "output_type": "display_data",
     "data": {
      "text/plain": [
       "<Figure size 432x288 with 1 Axes>"
      ],
      "image/png": "[encoded data removed]"
     },
     "metadata": {
      "needs_background": "light"
     }
    }
   ],
   "metadata": {}
  },
  {
   "cell_type": "code",
   "execution_count": null,
   "source": [
    "# se observan comportamientos parecidos en cuanto a precipitaciones, con la diferencia de que en Libertador Bernardo O'Higgins hay un mayor volumen en mm"
   ],
   "outputs": [],
   "metadata": {}
  },
  {
   "cell_type": "code",
   "execution_count": null,
   "source": [],
   "outputs": [],
   "metadata": {}
  },
  {
   "cell_type": "code",
   "execution_count": null,
   "source": [],
   "outputs": [],
   "metadata": {}
  }
 ],
 "metadata": {
  "orig_nbformat": 4,
  "language_info": {
   "name": "python",
   "version": "3.8.3",
   "mimetype": "text/x-python",
   "codemirror_mode": {
    "name": "ipython",
    "version": 3
   },
   "pygments_lexer": "ipython3",
   "nbconvert_exporter": "python",
   "file_extension": ".py"
  },
  "kernelspec": {
   "name": "python3",
   "display_name": "Python 3.8.3 64-bit"
  },
  "interpreter": {
   "hash": "2db524e06e9f5f4ffedc911c917cb75e12dbc923643829bf417064a77eb14d37"
  }
 },
 "nbformat": 4,
 "nbformat_minor": 2
}